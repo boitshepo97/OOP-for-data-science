{
 "cells": [
  {
   "cell_type": "markdown",
   "metadata": {},
   "source": [
    "### &emsp;&emsp;&emsp;&emsp;&emsp;&emsp;&emsp;&emsp;&emsp;&emsp;&emsp;&emsp;Multiple Linear Regression\n",
    "\n",
    "A statistical technique that uses several explanatory variables to predict the outcome of a response variable. The goal of multiple linear regression is to model the linear relationship between the explanatory (independent) variables and response(dependent) variable.\n",
    "\n",
    "Here our model is:   \n",
    "\n",
    "$$Y = \\beta_0 + \\beta_1X_1 + \\beta_2X_2 + ... + \\beta_pX_p$$   \n",
    "   \n",
    "In this case, $Y$ is the response variable which depends on the $p$ predictor variables.\n",
    "\n",
    "$\\beta_0$ is the intercept. This can be interpreted as the value of $Y$ when all predictor variables are equal to zero.\n",
    "\n",
    "$\\beta_j$ is the average effect on $Y$ of a one-unit increase in $X_j$.\n",
    "\n",
    "### Assignment\n",
    "Build a model to predict employee salaries from different employee characteristics (or features)\n"
   ]
  },
  {
   "cell_type": "code",
   "execution_count": 1,
   "metadata": {},
   "outputs": [],
   "source": [
    "import numpy as np\n",
    "import pandas as pd\n",
    "import matplotlib.pyplot as plt\n",
    "import statsmodels.api as sm\n",
    "import statsmodels.formula.api as smf\n",
    "import seaborn as sns\n",
    "#from sklearn import metrics\n",
    "from sklearn.model_selection import train_test_split\n",
    "from sklearn.preprocessing import StandardScaler\n",
    "from statsmodels.tools.eval_measures import rmse\n",
    "#from sklearn.metrics import mean_squared_error\n",
    "from yellowbrick.regressor import ResidualsPlot\n",
    "\n",
    "from warnings import simplefilter\n",
    "simplefilter(action='ignore', category=FutureWarning)"
   ]
  },
  {
   "cell_type": "code",
   "execution_count": 2,
   "metadata": {},
   "outputs": [],
   "source": [
    "class ErrorCalculator():\n",
    "    def __init__(self, y_test, Y_predict):\n",
    "        self.y_test = y_test\n",
    "        self.Y_predict = Y_predict\n",
    "    \n",
    "    def get_residuals(self):\n",
    "        return self.y_test - self.Y_predict\n",
    "    \n",
    "    def get_standardised_residuals(self):\n",
    "        return self.get_residuals() / self.get_residuals().std()\n",
    "    \n",
    "    def get_mse(self):\n",
    "        return np.square(np.subtract(self.y_test, self.Y_predict)).mean()\n",
    "    \n",
    "    def get_rmse(self):\n",
    "        return np.sqrt(((self.Y_predict - self.y_test) ** 2).mean())\n",
    "    \n",
    "    def error_summary(self):\n",
    "        return pd.DataFrame({\"Standardised Residuals Average Mean\" : [self.get_standardised_residuals().mean()],\n",
    "                             \"Standardised Residuals Average Min\": [self.get_standardised_residuals().min()],\n",
    "                             \"Standardised Residuals Average Max\": [self.get_standardised_residuals().max()],\n",
    "                             \"MSE\": [self.get_mse()],\n",
    "                             \"RMSE\": [self.get_rmse()]},\n",
    "                             columns= [\"Standardised Residuals Average Mean\",\n",
    "                                     \"Standardised Residuals Average Min\",\n",
    "                                     \"Standardised Residuals Average Max\",\n",
    "                                     \"MSE\",\n",
    "                                     \"RMSE\"])\n",
    "\n",
    "class Plotter():\n",
    "    def __init__(self,y_test,ypred):\n",
    "        self.y_test = y_test\n",
    "        self.ypred = ypred\n",
    "    \n",
    "    def run_calculations(self):\n",
    "        return self.y_test - self.ypred\n",
    "    \n",
    "    def plot(self):\n",
    "        plt.hist(self.y_test - self.ypred)\n",
    "        plt.title('Residuals Plot for predictions')\n",
    "        plt.xlabel('Residuals')\n",
    "        plt.ylabel('Frequency')\n",
    "        return plt.show()   \n",
    "    \n",
    "class HistogramPlotter(Plotter):\n",
    "    def __init__(self, y_test,ypred):\n",
    "        Plotter.__init__(self, y_test, ypred)\n",
    "        \n",
    "class ScatterPlotter(Plotter):\n",
    "    def __init__(self, y_test, ypred):\n",
    "        Plotter.__init__(self, y_test, ypred)\n",
    "\n",
    "    def plot(self):\n",
    "        chart = pd.DataFrame({\"y_test\": self.y_test, \"y_prediction\": self.ypred})\n",
    "        chart.plot.scatter(x=\"y_test\", y=\"y_prediction\", c=\"DarkBlue\")\n",
    "        plt.title(\"Prediction vs Actual values\")\n",
    "        plt.xlabel(\"Actual\")\n",
    "        plt.ylabel(\"Prediction\")\n",
    "        return plt.show()"
   ]
  },
  {
   "cell_type": "code",
   "execution_count": 3,
   "metadata": {},
   "outputs": [
    {
     "data": {
      "text/html": [
       "<div>\n",
       "<style scoped>\n",
       "    .dataframe tbody tr th:only-of-type {\n",
       "        vertical-align: middle;\n",
       "    }\n",
       "\n",
       "    .dataframe tbody tr th {\n",
       "        vertical-align: top;\n",
       "    }\n",
       "\n",
       "    .dataframe thead th {\n",
       "        text-align: right;\n",
       "    }\n",
       "</style>\n",
       "<table border=\"1\" class=\"dataframe\">\n",
       "  <thead>\n",
       "    <tr style=\"text-align: right;\">\n",
       "      <th></th>\n",
       "      <th>salary</th>\n",
       "      <th>exprior</th>\n",
       "      <th>yearsworked</th>\n",
       "      <th>yearsrank</th>\n",
       "      <th>market</th>\n",
       "      <th>degree</th>\n",
       "      <th>otherqual</th>\n",
       "      <th>position</th>\n",
       "      <th>male</th>\n",
       "      <th>Field</th>\n",
       "      <th>yearsabs</th>\n",
       "    </tr>\n",
       "  </thead>\n",
       "  <tbody>\n",
       "    <tr>\n",
       "      <th>0</th>\n",
       "      <td>53000.0</td>\n",
       "      <td>0</td>\n",
       "      <td>0</td>\n",
       "      <td>0</td>\n",
       "      <td>1.17</td>\n",
       "      <td>1</td>\n",
       "      <td>0</td>\n",
       "      <td>1</td>\n",
       "      <td>1</td>\n",
       "      <td>3</td>\n",
       "      <td>0</td>\n",
       "    </tr>\n",
       "    <tr>\n",
       "      <th>1</th>\n",
       "      <td>58000.0</td>\n",
       "      <td>1</td>\n",
       "      <td>0</td>\n",
       "      <td>0</td>\n",
       "      <td>1.24</td>\n",
       "      <td>1</td>\n",
       "      <td>0</td>\n",
       "      <td>1</td>\n",
       "      <td>1</td>\n",
       "      <td>2</td>\n",
       "      <td>0</td>\n",
       "    </tr>\n",
       "    <tr>\n",
       "      <th>2</th>\n",
       "      <td>45500.0</td>\n",
       "      <td>0</td>\n",
       "      <td>0</td>\n",
       "      <td>0</td>\n",
       "      <td>1.21</td>\n",
       "      <td>1</td>\n",
       "      <td>0</td>\n",
       "      <td>1</td>\n",
       "      <td>1</td>\n",
       "      <td>3</td>\n",
       "      <td>2</td>\n",
       "    </tr>\n",
       "    <tr>\n",
       "      <th>3</th>\n",
       "      <td>35782.0</td>\n",
       "      <td>0</td>\n",
       "      <td>2</td>\n",
       "      <td>1</td>\n",
       "      <td>0.99</td>\n",
       "      <td>1</td>\n",
       "      <td>0</td>\n",
       "      <td>1</td>\n",
       "      <td>1</td>\n",
       "      <td>4</td>\n",
       "      <td>1</td>\n",
       "    </tr>\n",
       "    <tr>\n",
       "      <th>4</th>\n",
       "      <td>34731.0</td>\n",
       "      <td>0</td>\n",
       "      <td>2</td>\n",
       "      <td>2</td>\n",
       "      <td>0.91</td>\n",
       "      <td>1</td>\n",
       "      <td>0</td>\n",
       "      <td>1</td>\n",
       "      <td>1</td>\n",
       "      <td>4</td>\n",
       "      <td>1</td>\n",
       "    </tr>\n",
       "  </tbody>\n",
       "</table>\n",
       "</div>"
      ],
      "text/plain": [
       "    salary  exprior  yearsworked  yearsrank  market  degree  otherqual  \\\n",
       "0  53000.0        0            0          0    1.17       1          0   \n",
       "1  58000.0        1            0          0    1.24       1          0   \n",
       "2  45500.0        0            0          0    1.21       1          0   \n",
       "3  35782.0        0            2          1    0.99       1          0   \n",
       "4  34731.0        0            2          2    0.91       1          0   \n",
       "\n",
       "   position  male  Field  yearsabs  \n",
       "0         1     1      3         0  \n",
       "1         1     1      2         0  \n",
       "2         1     1      3         2  \n",
       "3         1     1      4         1  \n",
       "4         1     1      4         1  "
      ]
     },
     "execution_count": 3,
     "metadata": {},
     "output_type": "execute_result"
    }
   ],
   "source": [
    "salary = pd.read_csv('../data/salary.csv')\n",
    "salary = salary.dropna()\n",
    "salary.head()"
   ]
  },
  {
   "cell_type": "markdown",
   "metadata": {},
   "source": [
    "1. Split your data into a training and test set. Create scatterplots, histograms, and a descriptive statistics table of the variables of interest. Do any of the variables need to be transformed to be able to use them in a linear regression model? Which variables seem like good predictors of salary?"
   ]
  },
  {
   "cell_type": "code",
   "execution_count": 4,
   "metadata": {},
   "outputs": [
    {
     "data": {
      "text/html": [
       "<div>\n",
       "<style scoped>\n",
       "    .dataframe tbody tr th:only-of-type {\n",
       "        vertical-align: middle;\n",
       "    }\n",
       "\n",
       "    .dataframe tbody tr th {\n",
       "        vertical-align: top;\n",
       "    }\n",
       "\n",
       "    .dataframe thead th {\n",
       "        text-align: right;\n",
       "    }\n",
       "</style>\n",
       "<table border=\"1\" class=\"dataframe\">\n",
       "  <thead>\n",
       "    <tr style=\"text-align: right;\">\n",
       "      <th></th>\n",
       "      <th>salary</th>\n",
       "      <th>yearsworked</th>\n",
       "      <th>yearsrank</th>\n",
       "      <th>market</th>\n",
       "      <th>exprior</th>\n",
       "      <th>yearsabs</th>\n",
       "    </tr>\n",
       "  </thead>\n",
       "  <tbody>\n",
       "    <tr>\n",
       "      <th>count</th>\n",
       "      <td>513.000000</td>\n",
       "      <td>513.000000</td>\n",
       "      <td>513.000000</td>\n",
       "      <td>513.000000</td>\n",
       "      <td>513.000000</td>\n",
       "      <td>513.000000</td>\n",
       "    </tr>\n",
       "    <tr>\n",
       "      <th>mean</th>\n",
       "      <td>50863.220098</td>\n",
       "      <td>12.836257</td>\n",
       "      <td>7.046784</td>\n",
       "      <td>0.948558</td>\n",
       "      <td>2.931774</td>\n",
       "      <td>6.994152</td>\n",
       "    </tr>\n",
       "    <tr>\n",
       "      <th>std</th>\n",
       "      <td>12685.132358</td>\n",
       "      <td>9.447040</td>\n",
       "      <td>6.419708</td>\n",
       "      <td>0.149524</td>\n",
       "      <td>4.794327</td>\n",
       "      <td>16.887552</td>\n",
       "    </tr>\n",
       "    <tr>\n",
       "      <th>min</th>\n",
       "      <td>29000.000000</td>\n",
       "      <td>0.000000</td>\n",
       "      <td>0.000000</td>\n",
       "      <td>0.710000</td>\n",
       "      <td>0.000000</td>\n",
       "      <td>0.000000</td>\n",
       "    </tr>\n",
       "    <tr>\n",
       "      <th>25%</th>\n",
       "      <td>40000.000000</td>\n",
       "      <td>4.000000</td>\n",
       "      <td>2.000000</td>\n",
       "      <td>0.840000</td>\n",
       "      <td>0.000000</td>\n",
       "      <td>0.000000</td>\n",
       "    </tr>\n",
       "    <tr>\n",
       "      <th>50%</th>\n",
       "      <td>50096.000000</td>\n",
       "      <td>12.000000</td>\n",
       "      <td>5.000000</td>\n",
       "      <td>0.920000</td>\n",
       "      <td>1.000000</td>\n",
       "      <td>1.000000</td>\n",
       "    </tr>\n",
       "    <tr>\n",
       "      <th>75%</th>\n",
       "      <td>60345.000000</td>\n",
       "      <td>22.000000</td>\n",
       "      <td>12.000000</td>\n",
       "      <td>1.020000</td>\n",
       "      <td>4.000000</td>\n",
       "      <td>2.000000</td>\n",
       "    </tr>\n",
       "    <tr>\n",
       "      <th>max</th>\n",
       "      <td>96156.000000</td>\n",
       "      <td>41.000000</td>\n",
       "      <td>28.000000</td>\n",
       "      <td>1.330000</td>\n",
       "      <td>25.000000</td>\n",
       "      <td>118.000000</td>\n",
       "    </tr>\n",
       "  </tbody>\n",
       "</table>\n",
       "</div>"
      ],
      "text/plain": [
       "             salary  yearsworked   yearsrank      market     exprior  \\\n",
       "count    513.000000   513.000000  513.000000  513.000000  513.000000   \n",
       "mean   50863.220098    12.836257    7.046784    0.948558    2.931774   \n",
       "std    12685.132358     9.447040    6.419708    0.149524    4.794327   \n",
       "min    29000.000000     0.000000    0.000000    0.710000    0.000000   \n",
       "25%    40000.000000     4.000000    2.000000    0.840000    0.000000   \n",
       "50%    50096.000000    12.000000    5.000000    0.920000    1.000000   \n",
       "75%    60345.000000    22.000000   12.000000    1.020000    4.000000   \n",
       "max    96156.000000    41.000000   28.000000    1.330000   25.000000   \n",
       "\n",
       "         yearsabs  \n",
       "count  513.000000  \n",
       "mean     6.994152  \n",
       "std     16.887552  \n",
       "min      0.000000  \n",
       "25%      0.000000  \n",
       "50%      1.000000  \n",
       "75%      2.000000  \n",
       "max    118.000000  "
      ]
     },
     "execution_count": 4,
     "metadata": {},
     "output_type": "execute_result"
    }
   ],
   "source": [
    "#Describing the numerical features.\n",
    "salary[['salary','yearsworked','yearsrank','market','exprior','yearsabs']].describe()"
   ]
  },
  {
   "cell_type": "code",
   "execution_count": 5,
   "metadata": {},
   "outputs": [],
   "source": [
    "# getting feature correlation\n",
    "correlation = salary.corr()[abs(salary.corr()[\"salary\"]) > 0.45].sort_values(by=[\"salary\"], ascending=False)"
   ]
  },
  {
   "cell_type": "code",
   "execution_count": 6,
   "metadata": {},
   "outputs": [
    {
     "data": {
      "text/plain": [
       "<matplotlib.axes._subplots.AxesSubplot at 0x1a771a61588>"
      ]
     },
     "execution_count": 6,
     "metadata": {},
     "output_type": "execute_result"
    },
    {
     "data": {
      "image/png": "[encoded data removed]",
      "text/plain": [
       "<Figure size 864x864 with 2 Axes>"
      ]
     },
     "metadata": {
      "needs_background": "light"
     },
     "output_type": "display_data"
    }
   ],
   "source": [
    "# correlation heatmap\n",
    "plt.figure(figsize=(12,12))\n",
    "sns.heatmap(correlation, vmin=-1, vmax=1, annot=True, linewidth=0.1)\n"
   ]
  },
  {
   "cell_type": "markdown",
   "metadata": {},
   "source": [
    "### Hypothesis Testing\n",
    "\n",
    "Null Hypothesis: There is no relationship that exists between salary and all the features in the dataset.\n",
    "\n",
    "\n",
    "Alternate Hypothesis: There exists a linear relationship between salary and some of the features in the dataset.\n",
    "\n",
    "We are testing to validate if there is a relationship that exists between salary and years worked, with a significance level of 5%."
   ]
  },
  {
   "cell_type": "code",
   "execution_count": 7,
   "metadata": {},
   "outputs": [
    {
     "data": {
      "text/plain": [
       "<seaborn.axisgrid.PairGrid at 0x1a7725b9e10>"
      ]
     },
     "execution_count": 7,
     "metadata": {},
     "output_type": "execute_result"
    },
    {
     "data": {
      "image/png": "[encoded data removed]",
      "text/plain": [
       "<Figure size 900x900 with 30 Axes>"
      ]
     },
     "metadata": {
      "needs_background": "light"
     },
     "output_type": "display_data"
    }
   ],
   "source": [
    "#Scatter and histogram\n",
    "sns.pairplot(salary[['salary', 'position','yearsworked','yearsrank','Field']])"
   ]
  },
  {
   "cell_type": "markdown",
   "metadata": {},
   "source": [
    "- Having observed the above charts, for Years Worked and Years Rank we reject the null hypothesis reason being that there is a linear relationship between these variables. There we are selecting these variables as our predictors for the target salary.\n",
    "\n",
    "\n",
    "- +0.50. A moderate uphill (positive) relationship+0.70. A strong uphill (positive) linear relationship."
   ]
  },
  {
   "cell_type": "markdown",
   "metadata": {},
   "source": [
    "2. One-hot encode the variable Field into three dummy variables, using HR as the reference category. You can use pandas’ get_dummies() function for this."
   ]
  },
  {
   "cell_type": "code",
   "execution_count": 8,
   "metadata": {},
   "outputs": [
    {
     "data": {
      "text/html": [
       "<div>\n",
       "<style scoped>\n",
       "    .dataframe tbody tr th:only-of-type {\n",
       "        vertical-align: middle;\n",
       "    }\n",
       "\n",
       "    .dataframe tbody tr th {\n",
       "        vertical-align: top;\n",
       "    }\n",
       "\n",
       "    .dataframe thead th {\n",
       "        text-align: right;\n",
       "    }\n",
       "</style>\n",
       "<table border=\"1\" class=\"dataframe\">\n",
       "  <thead>\n",
       "    <tr style=\"text-align: right;\">\n",
       "      <th></th>\n",
       "      <th>salary</th>\n",
       "      <th>exprior</th>\n",
       "      <th>yearsworked</th>\n",
       "      <th>yearsrank</th>\n",
       "      <th>market</th>\n",
       "      <th>degree</th>\n",
       "      <th>otherqual</th>\n",
       "      <th>position</th>\n",
       "      <th>male</th>\n",
       "      <th>yearsabs</th>\n",
       "      <th>Finance</th>\n",
       "      <th>HR</th>\n",
       "      <th>Marketing</th>\n",
       "    </tr>\n",
       "  </thead>\n",
       "  <tbody>\n",
       "    <tr>\n",
       "      <th>0</th>\n",
       "      <td>53000.0</td>\n",
       "      <td>0</td>\n",
       "      <td>0</td>\n",
       "      <td>0</td>\n",
       "      <td>1.17</td>\n",
       "      <td>1</td>\n",
       "      <td>0</td>\n",
       "      <td>1</td>\n",
       "      <td>1</td>\n",
       "      <td>0</td>\n",
       "      <td>0</td>\n",
       "      <td>1</td>\n",
       "      <td>0</td>\n",
       "    </tr>\n",
       "    <tr>\n",
       "      <th>1</th>\n",
       "      <td>58000.0</td>\n",
       "      <td>1</td>\n",
       "      <td>0</td>\n",
       "      <td>0</td>\n",
       "      <td>1.24</td>\n",
       "      <td>1</td>\n",
       "      <td>0</td>\n",
       "      <td>1</td>\n",
       "      <td>1</td>\n",
       "      <td>0</td>\n",
       "      <td>1</td>\n",
       "      <td>0</td>\n",
       "      <td>0</td>\n",
       "    </tr>\n",
       "    <tr>\n",
       "      <th>2</th>\n",
       "      <td>45500.0</td>\n",
       "      <td>0</td>\n",
       "      <td>0</td>\n",
       "      <td>0</td>\n",
       "      <td>1.21</td>\n",
       "      <td>1</td>\n",
       "      <td>0</td>\n",
       "      <td>1</td>\n",
       "      <td>1</td>\n",
       "      <td>2</td>\n",
       "      <td>0</td>\n",
       "      <td>1</td>\n",
       "      <td>0</td>\n",
       "    </tr>\n",
       "    <tr>\n",
       "      <th>3</th>\n",
       "      <td>35782.0</td>\n",
       "      <td>0</td>\n",
       "      <td>2</td>\n",
       "      <td>1</td>\n",
       "      <td>0.99</td>\n",
       "      <td>1</td>\n",
       "      <td>0</td>\n",
       "      <td>1</td>\n",
       "      <td>1</td>\n",
       "      <td>1</td>\n",
       "      <td>0</td>\n",
       "      <td>0</td>\n",
       "      <td>1</td>\n",
       "    </tr>\n",
       "    <tr>\n",
       "      <th>4</th>\n",
       "      <td>34731.0</td>\n",
       "      <td>0</td>\n",
       "      <td>2</td>\n",
       "      <td>2</td>\n",
       "      <td>0.91</td>\n",
       "      <td>1</td>\n",
       "      <td>0</td>\n",
       "      <td>1</td>\n",
       "      <td>1</td>\n",
       "      <td>1</td>\n",
       "      <td>0</td>\n",
       "      <td>0</td>\n",
       "      <td>1</td>\n",
       "    </tr>\n",
       "  </tbody>\n",
       "</table>\n",
       "</div>"
      ],
      "text/plain": [
       "    salary  exprior  yearsworked  yearsrank  market  degree  otherqual  \\\n",
       "0  53000.0        0            0          0    1.17       1          0   \n",
       "1  58000.0        1            0          0    1.24       1          0   \n",
       "2  45500.0        0            0          0    1.21       1          0   \n",
       "3  35782.0        0            2          1    0.99       1          0   \n",
       "4  34731.0        0            2          2    0.91       1          0   \n",
       "\n",
       "   position  male  yearsabs  Finance  HR  Marketing  \n",
       "0         1     1         0        0   1          0  \n",
       "1         1     1         0        1   0          0  \n",
       "2         1     1         2        0   1          0  \n",
       "3         1     1         1        0   0          1  \n",
       "4         1     1         1        0   0          1  "
      ]
     },
     "execution_count": 8,
     "metadata": {},
     "output_type": "execute_result"
    }
   ],
   "source": [
    "field = pd.get_dummies(salary['Field'])\n",
    "field.drop(1, inplace=True, axis=1)\n",
    "\n",
    "new_field = field.rename(columns={2:'Finance',3:'HR',4:'Marketing'})\n",
    "\n",
    "salary= pd.concat([salary, new_field] ,axis=1, ignore_index=False)\n",
    "salary.drop(\"Field\", inplace=True, axis=1)\n",
    "salary.head()"
   ]
  },
  {
   "cell_type": "markdown",
   "metadata": {},
   "source": [
    "#### Feature Transformation"
   ]
  },
  {
   "cell_type": "code",
   "execution_count": 9,
   "metadata": {},
   "outputs": [
    {
     "name": "stdout",
     "output_type": "stream",
     "text": [
      "Overall variance: 12377924.853694368\n"
     ]
    }
   ],
   "source": [
    "total_variance = []\n",
    "for i in salary.columns:\n",
    "    total_variance.append(salary[i].var())\n",
    "\n",
    "print(\"Overall variance: {}\".format(sum(total_variance) / len(total_variance)))"
   ]
  },
  {
   "cell_type": "markdown",
   "metadata": {},
   "source": [
    "Due to the high total variance, features will be transformed to reduce the overall variance."
   ]
  },
  {
   "cell_type": "code",
   "execution_count": 10,
   "metadata": {},
   "outputs": [
    {
     "data": {
      "text/html": [
       "<div>\n",
       "<style scoped>\n",
       "    .dataframe tbody tr th:only-of-type {\n",
       "        vertical-align: middle;\n",
       "    }\n",
       "\n",
       "    .dataframe tbody tr th {\n",
       "        vertical-align: top;\n",
       "    }\n",
       "\n",
       "    .dataframe thead th {\n",
       "        text-align: right;\n",
       "    }\n",
       "</style>\n",
       "<table border=\"1\" class=\"dataframe\">\n",
       "  <thead>\n",
       "    <tr style=\"text-align: right;\">\n",
       "      <th></th>\n",
       "      <th>salary</th>\n",
       "      <th>exprior</th>\n",
       "      <th>yearsworked</th>\n",
       "      <th>yearsrank</th>\n",
       "      <th>market</th>\n",
       "      <th>degree</th>\n",
       "      <th>otherqual</th>\n",
       "      <th>position</th>\n",
       "      <th>male</th>\n",
       "      <th>yearsabs</th>\n",
       "      <th>Finance</th>\n",
       "      <th>HR</th>\n",
       "      <th>Marketing</th>\n",
       "    </tr>\n",
       "  </thead>\n",
       "  <tbody>\n",
       "    <tr>\n",
       "      <th>0</th>\n",
       "      <td>0.168612</td>\n",
       "      <td>-0.612106</td>\n",
       "      <td>-1.360086</td>\n",
       "      <td>-1.098751</td>\n",
       "      <td>1.482433</td>\n",
       "      <td>0.190693</td>\n",
       "      <td>-0.216654</td>\n",
       "      <td>-1.38017</td>\n",
       "      <td>0.5766</td>\n",
       "      <td>-0.414564</td>\n",
       "      <td>-0.570597</td>\n",
       "      <td>1.752549</td>\n",
       "      <td>-0.597614</td>\n",
       "    </tr>\n",
       "    <tr>\n",
       "      <th>1</th>\n",
       "      <td>0.563159</td>\n",
       "      <td>-0.403322</td>\n",
       "      <td>-1.360086</td>\n",
       "      <td>-1.098751</td>\n",
       "      <td>1.951044</td>\n",
       "      <td>0.190693</td>\n",
       "      <td>-0.216654</td>\n",
       "      <td>-1.38017</td>\n",
       "      <td>0.5766</td>\n",
       "      <td>-0.414564</td>\n",
       "      <td>1.752549</td>\n",
       "      <td>-0.570597</td>\n",
       "      <td>-0.597614</td>\n",
       "    </tr>\n",
       "    <tr>\n",
       "      <th>2</th>\n",
       "      <td>-0.423208</td>\n",
       "      <td>-0.612106</td>\n",
       "      <td>-1.360086</td>\n",
       "      <td>-1.098751</td>\n",
       "      <td>1.750211</td>\n",
       "      <td>0.190693</td>\n",
       "      <td>-0.216654</td>\n",
       "      <td>-1.38017</td>\n",
       "      <td>0.5766</td>\n",
       "      <td>-0.296018</td>\n",
       "      <td>-0.570597</td>\n",
       "      <td>1.752549</td>\n",
       "      <td>-0.597614</td>\n",
       "    </tr>\n",
       "    <tr>\n",
       "      <th>3</th>\n",
       "      <td>-1.190050</td>\n",
       "      <td>-0.612106</td>\n",
       "      <td>-1.148173</td>\n",
       "      <td>-0.942829</td>\n",
       "      <td>0.277434</td>\n",
       "      <td>0.190693</td>\n",
       "      <td>-0.216654</td>\n",
       "      <td>-1.38017</td>\n",
       "      <td>0.5766</td>\n",
       "      <td>-0.355291</td>\n",
       "      <td>-0.570597</td>\n",
       "      <td>-0.570597</td>\n",
       "      <td>1.673320</td>\n",
       "    </tr>\n",
       "    <tr>\n",
       "      <th>4</th>\n",
       "      <td>-1.272984</td>\n",
       "      <td>-0.612106</td>\n",
       "      <td>-1.148173</td>\n",
       "      <td>-0.786906</td>\n",
       "      <td>-0.258121</td>\n",
       "      <td>0.190693</td>\n",
       "      <td>-0.216654</td>\n",
       "      <td>-1.38017</td>\n",
       "      <td>0.5766</td>\n",
       "      <td>-0.355291</td>\n",
       "      <td>-0.570597</td>\n",
       "      <td>-0.570597</td>\n",
       "      <td>1.673320</td>\n",
       "    </tr>\n",
       "  </tbody>\n",
       "</table>\n",
       "</div>"
      ],
      "text/plain": [
       "     salary   exprior  yearsworked  yearsrank    market    degree  otherqual  \\\n",
       "0  0.168612 -0.612106    -1.360086  -1.098751  1.482433  0.190693  -0.216654   \n",
       "1  0.563159 -0.403322    -1.360086  -1.098751  1.951044  0.190693  -0.216654   \n",
       "2 -0.423208 -0.612106    -1.360086  -1.098751  1.750211  0.190693  -0.216654   \n",
       "3 -1.190050 -0.612106    -1.148173  -0.942829  0.277434  0.190693  -0.216654   \n",
       "4 -1.272984 -0.612106    -1.148173  -0.786906 -0.258121  0.190693  -0.216654   \n",
       "\n",
       "   position    male  yearsabs   Finance        HR  Marketing  \n",
       "0  -1.38017  0.5766 -0.414564 -0.570597  1.752549  -0.597614  \n",
       "1  -1.38017  0.5766 -0.414564  1.752549 -0.570597  -0.597614  \n",
       "2  -1.38017  0.5766 -0.296018 -0.570597  1.752549  -0.597614  \n",
       "3  -1.38017  0.5766 -0.355291 -0.570597 -0.570597   1.673320  \n",
       "4  -1.38017  0.5766 -0.355291 -0.570597 -0.570597   1.673320  "
      ]
     },
     "execution_count": 10,
     "metadata": {},
     "output_type": "execute_result"
    }
   ],
   "source": [
    "scaler = StandardScaler()\n",
    "\n",
    "scaled_data = scaler.fit_transform(salary)\n",
    "\n",
    "scaled_data = pd.DataFrame(scaled_data, columns=salary.columns)\n",
    "\n",
    "scaled_data.head()"
   ]
  },
  {
   "cell_type": "code",
   "execution_count": 11,
   "metadata": {},
   "outputs": [
    {
     "name": "stdout",
     "output_type": "stream",
     "text": [
      "Overall variance: 0\n"
     ]
    }
   ],
   "source": [
    "scaled_variance = []\n",
    "for i in scaled_data.columns:\n",
    "    total_variance.append(scaled_data[i].var())\n",
    "\n",
    "print(\"Overall variance: {}\".format(sum(scaled_variance)))"
   ]
  },
  {
   "cell_type": "markdown",
   "metadata": {},
   "source": [
    "4. Use multiple linear regression to predict salary from all the variables in the training dataset. Interpret the standardised coefficients given in the statsmodels output. What are the most important features when predicting employee salary?"
   ]
  },
  {
   "cell_type": "code",
   "execution_count": 12,
   "metadata": {},
   "outputs": [
    {
     "data": {
      "text/plain": [
       "((359, 12), (154, 12))"
      ]
     },
     "execution_count": 12,
     "metadata": {},
     "output_type": "execute_result"
    }
   ],
   "source": [
    "from statsmodels.formula.api import ols\n",
    "\n",
    "X_train, X_test, y_train, y_test = train_test_split(\n",
    "   scaled_data.drop(labels=[\"salary\"], axis=1),\n",
    "    scaled_data[\"salary\"],\n",
    "    test_size = 0.3,\n",
    "    random_state = 42\n",
    ")\n",
    "\n",
    "X_train.shape, X_test.shape"
   ]
  },
  {
   "cell_type": "code",
   "execution_count": 13,
   "metadata": {},
   "outputs": [
    {
     "data": {
      "text/html": [
       "<table class=\"simpletable\">\n",
       "<caption>OLS Regression Results</caption>\n",
       "<tr>\n",
       "  <th>Dep. Variable:</th>         <td>salary</td>      <th>  R-squared:         </th> <td>   0.455</td>\n",
       "</tr>\n",
       "<tr>\n",
       "  <th>Model:</th>                   <td>OLS</td>       <th>  Adj. R-squared:    </th> <td>   0.452</td>\n",
       "</tr>\n",
       "<tr>\n",
       "  <th>Method:</th>             <td>Least Squares</td>  <th>  F-statistic:       </th> <td>   148.7</td>\n",
       "</tr>\n",
       "<tr>\n",
       "  <th>Date:</th>             <td>Sat, 22 Feb 2020</td> <th>  Prob (F-statistic):</th> <td>1.11e-47</td>\n",
       "</tr>\n",
       "<tr>\n",
       "  <th>Time:</th>                 <td>16:27:04</td>     <th>  Log-Likelihood:    </th> <td> -401.65</td>\n",
       "</tr>\n",
       "<tr>\n",
       "  <th>No. Observations:</th>      <td>   359</td>      <th>  AIC:               </th> <td>   809.3</td>\n",
       "</tr>\n",
       "<tr>\n",
       "  <th>Df Residuals:</th>          <td>   356</td>      <th>  BIC:               </th> <td>   821.0</td>\n",
       "</tr>\n",
       "<tr>\n",
       "  <th>Df Model:</th>              <td>     2</td>      <th>                     </th>     <td> </td>   \n",
       "</tr>\n",
       "<tr>\n",
       "  <th>Covariance Type:</th>      <td>nonrobust</td>    <th>                     </th>     <td> </td>   \n",
       "</tr>\n",
       "</table>\n",
       "<table class=\"simpletable\">\n",
       "<tr>\n",
       "       <td></td>          <th>coef</th>     <th>std err</th>      <th>t</th>      <th>P>|t|</th>  <th>[0.025</th>    <th>0.975]</th>  \n",
       "</tr>\n",
       "<tr>\n",
       "  <th>const</th>       <td>    0.0292</td> <td>    0.039</td> <td>    0.742</td> <td> 0.458</td> <td>   -0.048</td> <td>    0.106</td>\n",
       "</tr>\n",
       "<tr>\n",
       "  <th>yearsworked</th> <td>    0.3823</td> <td>    0.066</td> <td>    5.750</td> <td> 0.000</td> <td>    0.252</td> <td>    0.513</td>\n",
       "</tr>\n",
       "<tr>\n",
       "  <th>yearsrank</th>   <td>    0.3238</td> <td>    0.065</td> <td>    4.961</td> <td> 0.000</td> <td>    0.195</td> <td>    0.452</td>\n",
       "</tr>\n",
       "</table>\n",
       "<table class=\"simpletable\">\n",
       "<tr>\n",
       "  <th>Omnibus:</th>       <td>27.853</td> <th>  Durbin-Watson:     </th> <td>   2.123</td>\n",
       "</tr>\n",
       "<tr>\n",
       "  <th>Prob(Omnibus):</th> <td> 0.000</td> <th>  Jarque-Bera (JB):  </th> <td>  32.120</td>\n",
       "</tr>\n",
       "<tr>\n",
       "  <th>Skew:</th>          <td> 0.717</td> <th>  Prob(JB):          </th> <td>1.06e-07</td>\n",
       "</tr>\n",
       "<tr>\n",
       "  <th>Kurtosis:</th>      <td> 3.299</td> <th>  Cond. No.          </th> <td>    3.06</td>\n",
       "</tr>\n",
       "</table><br/><br/>Warnings:<br/>[1] Standard Errors assume that the covariance matrix of the errors is correctly specified."
      ],
      "text/plain": [
       "<class 'statsmodels.iolib.summary.Summary'>\n",
       "\"\"\"\n",
       "                            OLS Regression Results                            \n",
       "==============================================================================\n",
       "Dep. Variable:                 salary   R-squared:                       0.455\n",
       "Model:                            OLS   Adj. R-squared:                  0.452\n",
       "Method:                 Least Squares   F-statistic:                     148.7\n",
       "Date:                Sat, 22 Feb 2020   Prob (F-statistic):           1.11e-47\n",
       "Time:                        16:27:04   Log-Likelihood:                -401.65\n",
       "No. Observations:                 359   AIC:                             809.3\n",
       "Df Residuals:                     356   BIC:                             821.0\n",
       "Df Model:                           2                                         \n",
       "Covariance Type:            nonrobust                                         \n",
       "===============================================================================\n",
       "                  coef    std err          t      P>|t|      [0.025      0.975]\n",
       "-------------------------------------------------------------------------------\n",
       "const           0.0292      0.039      0.742      0.458      -0.048       0.106\n",
       "yearsworked     0.3823      0.066      5.750      0.000       0.252       0.513\n",
       "yearsrank       0.3238      0.065      4.961      0.000       0.195       0.452\n",
       "==============================================================================\n",
       "Omnibus:                       27.853   Durbin-Watson:                   2.123\n",
       "Prob(Omnibus):                  0.000   Jarque-Bera (JB):               32.120\n",
       "Skew:                           0.717   Prob(JB):                     1.06e-07\n",
       "Kurtosis:                       3.299   Cond. No.                         3.06\n",
       "==============================================================================\n",
       "\n",
       "Warnings:\n",
       "[1] Standard Errors assume that the covariance matrix of the errors is correctly specified.\n",
       "\"\"\""
      ]
     },
     "execution_count": 13,
     "metadata": {},
     "output_type": "execute_result"
    }
   ],
   "source": [
    "X = sm.add_constant(X_train[['yearsworked', 'yearsrank']])\n",
    "model = sm.OLS(y_train, X).fit()\n",
    "model.summary()"
   ]
  },
  {
   "cell_type": "markdown",
   "metadata": {},
   "source": [
    "5. Calculate the standardised residuals (resid()) and standardised predicted values (fittedvalues())."
   ]
  },
  {
   "cell_type": "code",
   "execution_count": 14,
   "metadata": {},
   "outputs": [],
   "source": [
    "# Calculations for Standard Residuals.\n",
    "influence = model.get_influence()\n",
    "leverage = influence.hat_matrix_diag\n",
    "cooks_d = influence.cooks_distance\n",
    "standardized_residuals = influence.resid_studentized_internal\n",
    "studentized_residuals = influence.resid_studentized_external\n",
    "studentized_residuals = pd.DataFrame(studentized_residuals)"
   ]
  },
  {
   "cell_type": "code",
   "execution_count": 15,
   "metadata": {},
   "outputs": [],
   "source": [
    "# Calculations for Fitted Values.\n",
    "fitted = model.fittedvalues\n",
    "fitted = pd.DataFrame(fitted)"
   ]
  },
  {
   "cell_type": "markdown",
   "metadata": {},
   "source": [
    "6. Plot the residuals versus the predicted values using seaborn’s residplot with fitted values as the x parameter, and the dependent variable as y, specify lowess=True. Are there any problems with the regression?\n"
   ]
  },
  {
   "cell_type": "code",
   "execution_count": 16,
   "metadata": {},
   "outputs": [
    {
     "data": {
      "text/plain": [
       "Text(0.5, 0, 'Residuals')"
      ]
     },
     "execution_count": 16,
     "metadata": {},
     "output_type": "execute_result"
    },
    {
     "data": {
      "image/png": "[encoded data removed]",
      "text/plain": [
       "<Figure size 432x288 with 1 Axes>"
      ]
     },
     "metadata": {
      "needs_background": "light"
     },
     "output_type": "display_data"
    }
   ],
   "source": [
    "sns.residplot(fitted,studentized_residuals)\n",
    "plt.title('Plot of Residuals versus the Predicted values\\n')\n",
    "plt.ylabel('Fitted Values')\n",
    "plt.xlabel('Residuals')"
   ]
  },
  {
   "cell_type": "markdown",
   "metadata": {},
   "source": [
    "7. Now run your model on the test set. How does your model compare when running it on the test set - what is the difference in the Root Mean Square Error (RMSE) between the training and test sets? Is there any indication that the model has been overfit or does it seem like a reasonably good model?"
   ]
  },
  {
   "cell_type": "code",
   "execution_count": 17,
   "metadata": {},
   "outputs": [],
   "source": [
    "x_test = sm.add_constant(X_test[['yearsworked','yearsrank']])\n",
    "\n",
    "y_prediction = model.predict(x_test)"
   ]
  },
  {
   "cell_type": "code",
   "execution_count": 18,
   "metadata": {},
   "outputs": [
    {
     "data": {
      "text/plain": [
       "0.7407264919933382"
      ]
     },
     "execution_count": 18,
     "metadata": {},
     "output_type": "execute_result"
    }
   ],
   "source": [
    "# Train\n",
    "\n",
    "pred = model.predict(X)\n",
    "\n",
    "from statsmodels.tools.eval_measures import rmse\n",
    "training_rmse = rmse(y_train, pred)\n",
    "training_rmse"
   ]
  },
  {
   "cell_type": "code",
   "execution_count": 19,
   "metadata": {},
   "outputs": [
    {
     "data": {
      "text/plain": [
       "0.8100651995400382"
      ]
     },
     "execution_count": 19,
     "metadata": {},
     "output_type": "execute_result"
    }
   ],
   "source": [
    "# Test\n",
    "from statsmodels.tools.eval_measures import rmse\n",
    "testing_rmse = rmse(y_test, y_prediction)\n",
    "testing_rmse"
   ]
  },
  {
   "cell_type": "code",
   "execution_count": 20,
   "metadata": {},
   "outputs": [
    {
     "data": {
      "text/plain": [
       "-0.06933870754670002"
      ]
     },
     "execution_count": 20,
     "metadata": {},
     "output_type": "execute_result"
    }
   ],
   "source": [
    "# diff\n",
    "training_rmse - testing_rmse"
   ]
  },
  {
   "cell_type": "markdown",
   "metadata": {},
   "source": [
    "The testing set performed better than the training set, this does not necessarily\n",
    "mean the model overfitted the training set. One reason we believe the testing set \n",
    "performed so well is the fact that the testing set is relatively smaller than the training\n",
    "set and or the test set could be fundamentally easier to predict (have less noise, less variance be less influenced by something not captured by the model."
   ]
  },
  {
   "cell_type": "markdown",
   "metadata": {},
   "source": [
    "### Conclusion"
   ]
  },
  {
   "cell_type": "code",
   "execution_count": 21,
   "metadata": {},
   "outputs": [
    {
     "data": {
      "image/png": "[encoded data removed]",
      "text/plain": [
       "<Figure size 432x288 with 2 Axes>"
      ]
     },
     "metadata": {
      "needs_background": "light"
     },
     "output_type": "display_data"
    },
    {
     "data": {
      "text/plain": [
       "<matplotlib.axes._subplots.AxesSubplot at 0x1a774a221d0>"
      ]
     },
     "execution_count": 21,
     "metadata": {},
     "output_type": "execute_result"
    }
   ],
   "source": [
    "from sklearn.linear_model import LinearRegression\n",
    "from yellowbrick.regressor import ResidualsPlot\n",
    "\n",
    "\n",
    "# Instantiate the linear model and visualizer\n",
    "model = LinearRegression()\n",
    "visualizer = ResidualsPlot(model)\n",
    "\n",
    "visualizer.fit(X, y_train)  # Fit the training data to the visualizer\n",
    "visualizer.score(x_test, y_test)  # Evaluate the model on the test data\n",
    "visualizer.show()                 # Finalize and render the figure"
   ]
  },
  {
   "cell_type": "markdown",
   "metadata": {},
   "source": [
    "## OOP FOR DATA SCIENCE"
   ]
  },
  {
   "cell_type": "markdown",
   "metadata": {},
   "source": [
    "### Building Model1"
   ]
  },
  {
   "cell_type": "code",
   "execution_count": 22,
   "metadata": {},
   "outputs": [
    {
     "data": {
      "text/html": [
       "<div>\n",
       "<style scoped>\n",
       "    .dataframe tbody tr th:only-of-type {\n",
       "        vertical-align: middle;\n",
       "    }\n",
       "\n",
       "    .dataframe tbody tr th {\n",
       "        vertical-align: top;\n",
       "    }\n",
       "\n",
       "    .dataframe thead th {\n",
       "        text-align: right;\n",
       "    }\n",
       "</style>\n",
       "<table border=\"1\" class=\"dataframe\">\n",
       "  <thead>\n",
       "    <tr style=\"text-align: right;\">\n",
       "      <th></th>\n",
       "      <th>salary</th>\n",
       "      <th>exprior</th>\n",
       "      <th>yearsworked</th>\n",
       "      <th>yearsrank</th>\n",
       "      <th>market</th>\n",
       "      <th>degree</th>\n",
       "      <th>otherqual</th>\n",
       "      <th>position</th>\n",
       "      <th>male</th>\n",
       "      <th>yearsabs</th>\n",
       "      <th>Finance</th>\n",
       "      <th>HR</th>\n",
       "      <th>Marketing</th>\n",
       "    </tr>\n",
       "  </thead>\n",
       "  <tbody>\n",
       "    <tr>\n",
       "      <th>0</th>\n",
       "      <td>0.168612</td>\n",
       "      <td>-0.612106</td>\n",
       "      <td>-1.360086</td>\n",
       "      <td>-1.098751</td>\n",
       "      <td>1.482433</td>\n",
       "      <td>0.190693</td>\n",
       "      <td>-0.216654</td>\n",
       "      <td>-1.38017</td>\n",
       "      <td>0.5766</td>\n",
       "      <td>-0.414564</td>\n",
       "      <td>-0.570597</td>\n",
       "      <td>1.752549</td>\n",
       "      <td>-0.597614</td>\n",
       "    </tr>\n",
       "    <tr>\n",
       "      <th>1</th>\n",
       "      <td>0.563159</td>\n",
       "      <td>-0.403322</td>\n",
       "      <td>-1.360086</td>\n",
       "      <td>-1.098751</td>\n",
       "      <td>1.951044</td>\n",
       "      <td>0.190693</td>\n",
       "      <td>-0.216654</td>\n",
       "      <td>-1.38017</td>\n",
       "      <td>0.5766</td>\n",
       "      <td>-0.414564</td>\n",
       "      <td>1.752549</td>\n",
       "      <td>-0.570597</td>\n",
       "      <td>-0.597614</td>\n",
       "    </tr>\n",
       "    <tr>\n",
       "      <th>2</th>\n",
       "      <td>-0.423208</td>\n",
       "      <td>-0.612106</td>\n",
       "      <td>-1.360086</td>\n",
       "      <td>-1.098751</td>\n",
       "      <td>1.750211</td>\n",
       "      <td>0.190693</td>\n",
       "      <td>-0.216654</td>\n",
       "      <td>-1.38017</td>\n",
       "      <td>0.5766</td>\n",
       "      <td>-0.296018</td>\n",
       "      <td>-0.570597</td>\n",
       "      <td>1.752549</td>\n",
       "      <td>-0.597614</td>\n",
       "    </tr>\n",
       "    <tr>\n",
       "      <th>3</th>\n",
       "      <td>-1.190050</td>\n",
       "      <td>-0.612106</td>\n",
       "      <td>-1.148173</td>\n",
       "      <td>-0.942829</td>\n",
       "      <td>0.277434</td>\n",
       "      <td>0.190693</td>\n",
       "      <td>-0.216654</td>\n",
       "      <td>-1.38017</td>\n",
       "      <td>0.5766</td>\n",
       "      <td>-0.355291</td>\n",
       "      <td>-0.570597</td>\n",
       "      <td>-0.570597</td>\n",
       "      <td>1.673320</td>\n",
       "    </tr>\n",
       "    <tr>\n",
       "      <th>4</th>\n",
       "      <td>-1.272984</td>\n",
       "      <td>-0.612106</td>\n",
       "      <td>-1.148173</td>\n",
       "      <td>-0.786906</td>\n",
       "      <td>-0.258121</td>\n",
       "      <td>0.190693</td>\n",
       "      <td>-0.216654</td>\n",
       "      <td>-1.38017</td>\n",
       "      <td>0.5766</td>\n",
       "      <td>-0.355291</td>\n",
       "      <td>-0.570597</td>\n",
       "      <td>-0.570597</td>\n",
       "      <td>1.673320</td>\n",
       "    </tr>\n",
       "  </tbody>\n",
       "</table>\n",
       "</div>"
      ],
      "text/plain": [
       "     salary   exprior  yearsworked  yearsrank    market    degree  otherqual  \\\n",
       "0  0.168612 -0.612106    -1.360086  -1.098751  1.482433  0.190693  -0.216654   \n",
       "1  0.563159 -0.403322    -1.360086  -1.098751  1.951044  0.190693  -0.216654   \n",
       "2 -0.423208 -0.612106    -1.360086  -1.098751  1.750211  0.190693  -0.216654   \n",
       "3 -1.190050 -0.612106    -1.148173  -0.942829  0.277434  0.190693  -0.216654   \n",
       "4 -1.272984 -0.612106    -1.148173  -0.786906 -0.258121  0.190693  -0.216654   \n",
       "\n",
       "   position    male  yearsabs   Finance        HR  Marketing  \n",
       "0  -1.38017  0.5766 -0.414564 -0.570597  1.752549  -0.597614  \n",
       "1  -1.38017  0.5766 -0.414564  1.752549 -0.570597  -0.597614  \n",
       "2  -1.38017  0.5766 -0.296018 -0.570597  1.752549  -0.597614  \n",
       "3  -1.38017  0.5766 -0.355291 -0.570597 -0.570597   1.673320  \n",
       "4  -1.38017  0.5766 -0.355291 -0.570597 -0.570597   1.673320  "
      ]
     },
     "execution_count": 22,
     "metadata": {},
     "output_type": "execute_result"
    }
   ],
   "source": [
    "# View of the dataset\n",
    "scaled_data.head()"
   ]
  },
  {
   "cell_type": "code",
   "execution_count": 23,
   "metadata": {},
   "outputs": [
    {
     "data": {
      "text/plain": [
       "((359, 12), (154, 12), (359,), (154,))"
      ]
     },
     "execution_count": 23,
     "metadata": {},
     "output_type": "execute_result"
    }
   ],
   "source": [
    "# Splitting the dataset\n",
    "X_train1, X_test1, y_train1, y_test1 = train_test_split(\n",
    "   scaled_data.drop(labels=[\"salary\"], axis=1),\n",
    "    scaled_data[\"salary\"],\n",
    "    test_size = 0.3,\n",
    "    random_state = 42\n",
    ")\n",
    "\n",
    "X_train1.shape, X_test1.shape, y_train1.shape, y_test1.shape"
   ]
  },
  {
   "cell_type": "code",
   "execution_count": 24,
   "metadata": {},
   "outputs": [
    {
     "data": {
      "text/html": [
       "<table class=\"simpletable\">\n",
       "<caption>OLS Regression Results</caption>\n",
       "<tr>\n",
       "  <th>Dep. Variable:</th>         <td>salary</td>      <th>  R-squared:         </th> <td>   0.826</td> \n",
       "</tr>\n",
       "<tr>\n",
       "  <th>Model:</th>                   <td>OLS</td>       <th>  Adj. R-squared:    </th> <td>   0.820</td> \n",
       "</tr>\n",
       "<tr>\n",
       "  <th>Method:</th>             <td>Least Squares</td>  <th>  F-statistic:       </th> <td>   136.9</td> \n",
       "</tr>\n",
       "<tr>\n",
       "  <th>Date:</th>             <td>Sat, 22 Feb 2020</td> <th>  Prob (F-statistic):</th> <td>2.13e-123</td>\n",
       "</tr>\n",
       "<tr>\n",
       "  <th>Time:</th>                 <td>16:27:06</td>     <th>  Log-Likelihood:    </th> <td> -196.74</td> \n",
       "</tr>\n",
       "<tr>\n",
       "  <th>No. Observations:</th>      <td>   359</td>      <th>  AIC:               </th> <td>   419.5</td> \n",
       "</tr>\n",
       "<tr>\n",
       "  <th>Df Residuals:</th>          <td>   346</td>      <th>  BIC:               </th> <td>   470.0</td> \n",
       "</tr>\n",
       "<tr>\n",
       "  <th>Df Model:</th>              <td>    12</td>      <th>                     </th>     <td> </td>    \n",
       "</tr>\n",
       "<tr>\n",
       "  <th>Covariance Type:</th>      <td>nonrobust</td>    <th>                     </th>     <td> </td>    \n",
       "</tr>\n",
       "</table>\n",
       "<table class=\"simpletable\">\n",
       "<tr>\n",
       "       <td></td>          <th>coef</th>     <th>std err</th>      <th>t</th>      <th>P>|t|</th>  <th>[0.025</th>    <th>0.975]</th>  \n",
       "</tr>\n",
       "<tr>\n",
       "  <th>const</th>       <td>   -0.0011</td> <td>    0.023</td> <td>   -0.048</td> <td> 0.962</td> <td>   -0.046</td> <td>    0.043</td>\n",
       "</tr>\n",
       "<tr>\n",
       "  <th>exprior</th>     <td>    0.0700</td> <td>    0.033</td> <td>    2.098</td> <td> 0.037</td> <td>    0.004</td> <td>    0.136</td>\n",
       "</tr>\n",
       "<tr>\n",
       "  <th>yearsworked</th> <td>   -0.0592</td> <td>    0.077</td> <td>   -0.768</td> <td> 0.443</td> <td>   -0.211</td> <td>    0.093</td>\n",
       "</tr>\n",
       "<tr>\n",
       "  <th>yearsrank</th>   <td>    0.4054</td> <td>    0.048</td> <td>    8.503</td> <td> 0.000</td> <td>    0.312</td> <td>    0.499</td>\n",
       "</tr>\n",
       "<tr>\n",
       "  <th>market</th>      <td>    0.3613</td> <td>    0.025</td> <td>   14.272</td> <td> 0.000</td> <td>    0.312</td> <td>    0.411</td>\n",
       "</tr>\n",
       "<tr>\n",
       "  <th>degree</th>      <td>    0.0020</td> <td>    0.022</td> <td>    0.090</td> <td> 0.928</td> <td>   -0.041</td> <td>    0.045</td>\n",
       "</tr>\n",
       "<tr>\n",
       "  <th>otherqual</th>   <td>    0.0598</td> <td>    0.023</td> <td>    2.654</td> <td> 0.008</td> <td>    0.015</td> <td>    0.104</td>\n",
       "</tr>\n",
       "<tr>\n",
       "  <th>position</th>    <td>    0.4541</td> <td>    0.049</td> <td>    9.339</td> <td> 0.000</td> <td>    0.358</td> <td>    0.550</td>\n",
       "</tr>\n",
       "<tr>\n",
       "  <th>male</th>        <td>    0.0263</td> <td>    0.034</td> <td>    0.781</td> <td> 0.435</td> <td>   -0.040</td> <td>    0.092</td>\n",
       "</tr>\n",
       "<tr>\n",
       "  <th>yearsabs</th>    <td>   -0.0265</td> <td>    0.031</td> <td>   -0.842</td> <td> 0.400</td> <td>   -0.088</td> <td>    0.035</td>\n",
       "</tr>\n",
       "<tr>\n",
       "  <th>Finance</th>     <td>   -0.0514</td> <td>    0.027</td> <td>   -1.899</td> <td> 0.058</td> <td>   -0.105</td> <td>    0.002</td>\n",
       "</tr>\n",
       "<tr>\n",
       "  <th>HR</th>          <td>   -0.1947</td> <td>    0.032</td> <td>   -6.148</td> <td> 0.000</td> <td>   -0.257</td> <td>   -0.132</td>\n",
       "</tr>\n",
       "<tr>\n",
       "  <th>Marketing</th>   <td>   -0.1668</td> <td>    0.030</td> <td>   -5.515</td> <td> 0.000</td> <td>   -0.226</td> <td>   -0.107</td>\n",
       "</tr>\n",
       "</table>\n",
       "<table class=\"simpletable\">\n",
       "<tr>\n",
       "  <th>Omnibus:</th>       <td>17.359</td> <th>  Durbin-Watson:     </th> <td>   2.182</td>\n",
       "</tr>\n",
       "<tr>\n",
       "  <th>Prob(Omnibus):</th> <td> 0.000</td> <th>  Jarque-Bera (JB):  </th> <td>  25.102</td>\n",
       "</tr>\n",
       "<tr>\n",
       "  <th>Skew:</th>          <td> 0.369</td> <th>  Prob(JB):          </th> <td>3.54e-06</td>\n",
       "</tr>\n",
       "<tr>\n",
       "  <th>Kurtosis:</th>      <td> 4.065</td> <th>  Cond. No.          </th> <td>    7.48</td>\n",
       "</tr>\n",
       "</table><br/><br/>Warnings:<br/>[1] Standard Errors assume that the covariance matrix of the errors is correctly specified."
      ],
      "text/plain": [
       "<class 'statsmodels.iolib.summary.Summary'>\n",
       "\"\"\"\n",
       "                            OLS Regression Results                            \n",
       "==============================================================================\n",
       "Dep. Variable:                 salary   R-squared:                       0.826\n",
       "Model:                            OLS   Adj. R-squared:                  0.820\n",
       "Method:                 Least Squares   F-statistic:                     136.9\n",
       "Date:                Sat, 22 Feb 2020   Prob (F-statistic):          2.13e-123\n",
       "Time:                        16:27:06   Log-Likelihood:                -196.74\n",
       "No. Observations:                 359   AIC:                             419.5\n",
       "Df Residuals:                     346   BIC:                             470.0\n",
       "Df Model:                          12                                         \n",
       "Covariance Type:            nonrobust                                         \n",
       "===============================================================================\n",
       "                  coef    std err          t      P>|t|      [0.025      0.975]\n",
       "-------------------------------------------------------------------------------\n",
       "const          -0.0011      0.023     -0.048      0.962      -0.046       0.043\n",
       "exprior         0.0700      0.033      2.098      0.037       0.004       0.136\n",
       "yearsworked    -0.0592      0.077     -0.768      0.443      -0.211       0.093\n",
       "yearsrank       0.4054      0.048      8.503      0.000       0.312       0.499\n",
       "market          0.3613      0.025     14.272      0.000       0.312       0.411\n",
       "degree          0.0020      0.022      0.090      0.928      -0.041       0.045\n",
       "otherqual       0.0598      0.023      2.654      0.008       0.015       0.104\n",
       "position        0.4541      0.049      9.339      0.000       0.358       0.550\n",
       "male            0.0263      0.034      0.781      0.435      -0.040       0.092\n",
       "yearsabs       -0.0265      0.031     -0.842      0.400      -0.088       0.035\n",
       "Finance        -0.0514      0.027     -1.899      0.058      -0.105       0.002\n",
       "HR             -0.1947      0.032     -6.148      0.000      -0.257      -0.132\n",
       "Marketing      -0.1668      0.030     -5.515      0.000      -0.226      -0.107\n",
       "==============================================================================\n",
       "Omnibus:                       17.359   Durbin-Watson:                   2.182\n",
       "Prob(Omnibus):                  0.000   Jarque-Bera (JB):               25.102\n",
       "Skew:                           0.369   Prob(JB):                     3.54e-06\n",
       "Kurtosis:                       4.065   Cond. No.                         7.48\n",
       "==============================================================================\n",
       "\n",
       "Warnings:\n",
       "[1] Standard Errors assume that the covariance matrix of the errors is correctly specified.\n",
       "\"\"\""
      ]
     },
     "execution_count": 24,
     "metadata": {},
     "output_type": "execute_result"
    }
   ],
   "source": [
    "# Building Model 1\n",
    "X1 = sm.add_constant(X_train1)\n",
    "model1 = sm.OLS(y_train1, X1).fit()\n",
    "model1.summary()"
   ]
  },
  {
   "cell_type": "markdown",
   "metadata": {},
   "source": [
    "### Building Model2"
   ]
  },
  {
   "cell_type": "code",
   "execution_count": 25,
   "metadata": {},
   "outputs": [
    {
     "data": {
      "text/html": [
       "<div>\n",
       "<style scoped>\n",
       "    .dataframe tbody tr th:only-of-type {\n",
       "        vertical-align: middle;\n",
       "    }\n",
       "\n",
       "    .dataframe tbody tr th {\n",
       "        vertical-align: top;\n",
       "    }\n",
       "\n",
       "    .dataframe thead th {\n",
       "        text-align: right;\n",
       "    }\n",
       "</style>\n",
       "<table border=\"1\" class=\"dataframe\">\n",
       "  <thead>\n",
       "    <tr style=\"text-align: right;\">\n",
       "      <th></th>\n",
       "      <th>salary</th>\n",
       "      <th>exprior</th>\n",
       "      <th>yearsworked</th>\n",
       "      <th>yearsrank</th>\n",
       "      <th>market</th>\n",
       "      <th>degree</th>\n",
       "      <th>otherqual</th>\n",
       "      <th>position</th>\n",
       "      <th>male</th>\n",
       "      <th>yearsabs</th>\n",
       "      <th>Finance</th>\n",
       "      <th>HR</th>\n",
       "      <th>Marketing</th>\n",
       "    </tr>\n",
       "  </thead>\n",
       "  <tbody>\n",
       "    <tr>\n",
       "      <th>0</th>\n",
       "      <td>0.168612</td>\n",
       "      <td>-0.612106</td>\n",
       "      <td>-1.360086</td>\n",
       "      <td>-1.098751</td>\n",
       "      <td>1.482433</td>\n",
       "      <td>0.190693</td>\n",
       "      <td>-0.216654</td>\n",
       "      <td>-1.38017</td>\n",
       "      <td>0.5766</td>\n",
       "      <td>-0.414564</td>\n",
       "      <td>-0.570597</td>\n",
       "      <td>1.752549</td>\n",
       "      <td>-0.597614</td>\n",
       "    </tr>\n",
       "    <tr>\n",
       "      <th>1</th>\n",
       "      <td>0.563159</td>\n",
       "      <td>-0.403322</td>\n",
       "      <td>-1.360086</td>\n",
       "      <td>-1.098751</td>\n",
       "      <td>1.951044</td>\n",
       "      <td>0.190693</td>\n",
       "      <td>-0.216654</td>\n",
       "      <td>-1.38017</td>\n",
       "      <td>0.5766</td>\n",
       "      <td>-0.414564</td>\n",
       "      <td>1.752549</td>\n",
       "      <td>-0.570597</td>\n",
       "      <td>-0.597614</td>\n",
       "    </tr>\n",
       "    <tr>\n",
       "      <th>2</th>\n",
       "      <td>-0.423208</td>\n",
       "      <td>-0.612106</td>\n",
       "      <td>-1.360086</td>\n",
       "      <td>-1.098751</td>\n",
       "      <td>1.750211</td>\n",
       "      <td>0.190693</td>\n",
       "      <td>-0.216654</td>\n",
       "      <td>-1.38017</td>\n",
       "      <td>0.5766</td>\n",
       "      <td>-0.296018</td>\n",
       "      <td>-0.570597</td>\n",
       "      <td>1.752549</td>\n",
       "      <td>-0.597614</td>\n",
       "    </tr>\n",
       "    <tr>\n",
       "      <th>3</th>\n",
       "      <td>-1.190050</td>\n",
       "      <td>-0.612106</td>\n",
       "      <td>-1.148173</td>\n",
       "      <td>-0.942829</td>\n",
       "      <td>0.277434</td>\n",
       "      <td>0.190693</td>\n",
       "      <td>-0.216654</td>\n",
       "      <td>-1.38017</td>\n",
       "      <td>0.5766</td>\n",
       "      <td>-0.355291</td>\n",
       "      <td>-0.570597</td>\n",
       "      <td>-0.570597</td>\n",
       "      <td>1.673320</td>\n",
       "    </tr>\n",
       "    <tr>\n",
       "      <th>4</th>\n",
       "      <td>-1.272984</td>\n",
       "      <td>-0.612106</td>\n",
       "      <td>-1.148173</td>\n",
       "      <td>-0.786906</td>\n",
       "      <td>-0.258121</td>\n",
       "      <td>0.190693</td>\n",
       "      <td>-0.216654</td>\n",
       "      <td>-1.38017</td>\n",
       "      <td>0.5766</td>\n",
       "      <td>-0.355291</td>\n",
       "      <td>-0.570597</td>\n",
       "      <td>-0.570597</td>\n",
       "      <td>1.673320</td>\n",
       "    </tr>\n",
       "  </tbody>\n",
       "</table>\n",
       "</div>"
      ],
      "text/plain": [
       "     salary   exprior  yearsworked  yearsrank    market    degree  otherqual  \\\n",
       "0  0.168612 -0.612106    -1.360086  -1.098751  1.482433  0.190693  -0.216654   \n",
       "1  0.563159 -0.403322    -1.360086  -1.098751  1.951044  0.190693  -0.216654   \n",
       "2 -0.423208 -0.612106    -1.360086  -1.098751  1.750211  0.190693  -0.216654   \n",
       "3 -1.190050 -0.612106    -1.148173  -0.942829  0.277434  0.190693  -0.216654   \n",
       "4 -1.272984 -0.612106    -1.148173  -0.786906 -0.258121  0.190693  -0.216654   \n",
       "\n",
       "   position    male  yearsabs   Finance        HR  Marketing  \n",
       "0  -1.38017  0.5766 -0.414564 -0.570597  1.752549  -0.597614  \n",
       "1  -1.38017  0.5766 -0.414564  1.752549 -0.570597  -0.597614  \n",
       "2  -1.38017  0.5766 -0.296018 -0.570597  1.752549  -0.597614  \n",
       "3  -1.38017  0.5766 -0.355291 -0.570597 -0.570597   1.673320  \n",
       "4  -1.38017  0.5766 -0.355291 -0.570597 -0.570597   1.673320  "
      ]
     },
     "execution_count": 25,
     "metadata": {},
     "output_type": "execute_result"
    }
   ],
   "source": [
    "# View of the dataset\n",
    "dataset2 = scaled_data.copy()\n",
    "dataset2.head()"
   ]
  },
  {
   "cell_type": "code",
   "execution_count": 26,
   "metadata": {},
   "outputs": [
    {
     "data": {
      "text/html": [
       "<div>\n",
       "<style scoped>\n",
       "    .dataframe tbody tr th:only-of-type {\n",
       "        vertical-align: middle;\n",
       "    }\n",
       "\n",
       "    .dataframe tbody tr th {\n",
       "        vertical-align: top;\n",
       "    }\n",
       "\n",
       "    .dataframe thead th {\n",
       "        text-align: right;\n",
       "    }\n",
       "</style>\n",
       "<table border=\"1\" class=\"dataframe\">\n",
       "  <thead>\n",
       "    <tr style=\"text-align: right;\">\n",
       "      <th></th>\n",
       "      <th>salary</th>\n",
       "      <th>exprior</th>\n",
       "      <th>yearsworked</th>\n",
       "      <th>market</th>\n",
       "      <th>degree</th>\n",
       "      <th>otherqual</th>\n",
       "      <th>position</th>\n",
       "      <th>male</th>\n",
       "      <th>yearsabs</th>\n",
       "      <th>Finance</th>\n",
       "      <th>HR</th>\n",
       "      <th>Marketing</th>\n",
       "    </tr>\n",
       "  </thead>\n",
       "  <tbody>\n",
       "    <tr>\n",
       "      <th>0</th>\n",
       "      <td>0.168612</td>\n",
       "      <td>-0.612106</td>\n",
       "      <td>-1.360086</td>\n",
       "      <td>1.482433</td>\n",
       "      <td>0.190693</td>\n",
       "      <td>-0.216654</td>\n",
       "      <td>-1.38017</td>\n",
       "      <td>0.5766</td>\n",
       "      <td>-0.414564</td>\n",
       "      <td>-0.570597</td>\n",
       "      <td>1.752549</td>\n",
       "      <td>-0.597614</td>\n",
       "    </tr>\n",
       "    <tr>\n",
       "      <th>1</th>\n",
       "      <td>0.563159</td>\n",
       "      <td>-0.403322</td>\n",
       "      <td>-1.360086</td>\n",
       "      <td>1.951044</td>\n",
       "      <td>0.190693</td>\n",
       "      <td>-0.216654</td>\n",
       "      <td>-1.38017</td>\n",
       "      <td>0.5766</td>\n",
       "      <td>-0.414564</td>\n",
       "      <td>1.752549</td>\n",
       "      <td>-0.570597</td>\n",
       "      <td>-0.597614</td>\n",
       "    </tr>\n",
       "    <tr>\n",
       "      <th>2</th>\n",
       "      <td>-0.423208</td>\n",
       "      <td>-0.612106</td>\n",
       "      <td>-1.360086</td>\n",
       "      <td>1.750211</td>\n",
       "      <td>0.190693</td>\n",
       "      <td>-0.216654</td>\n",
       "      <td>-1.38017</td>\n",
       "      <td>0.5766</td>\n",
       "      <td>-0.296018</td>\n",
       "      <td>-0.570597</td>\n",
       "      <td>1.752549</td>\n",
       "      <td>-0.597614</td>\n",
       "    </tr>\n",
       "    <tr>\n",
       "      <th>3</th>\n",
       "      <td>-1.190050</td>\n",
       "      <td>-0.612106</td>\n",
       "      <td>-1.148173</td>\n",
       "      <td>0.277434</td>\n",
       "      <td>0.190693</td>\n",
       "      <td>-0.216654</td>\n",
       "      <td>-1.38017</td>\n",
       "      <td>0.5766</td>\n",
       "      <td>-0.355291</td>\n",
       "      <td>-0.570597</td>\n",
       "      <td>-0.570597</td>\n",
       "      <td>1.673320</td>\n",
       "    </tr>\n",
       "    <tr>\n",
       "      <th>4</th>\n",
       "      <td>-1.272984</td>\n",
       "      <td>-0.612106</td>\n",
       "      <td>-1.148173</td>\n",
       "      <td>-0.258121</td>\n",
       "      <td>0.190693</td>\n",
       "      <td>-0.216654</td>\n",
       "      <td>-1.38017</td>\n",
       "      <td>0.5766</td>\n",
       "      <td>-0.355291</td>\n",
       "      <td>-0.570597</td>\n",
       "      <td>-0.570597</td>\n",
       "      <td>1.673320</td>\n",
       "    </tr>\n",
       "  </tbody>\n",
       "</table>\n",
       "</div>"
      ],
      "text/plain": [
       "     salary   exprior  yearsworked    market    degree  otherqual  position  \\\n",
       "0  0.168612 -0.612106    -1.360086  1.482433  0.190693  -0.216654  -1.38017   \n",
       "1  0.563159 -0.403322    -1.360086  1.951044  0.190693  -0.216654  -1.38017   \n",
       "2 -0.423208 -0.612106    -1.360086  1.750211  0.190693  -0.216654  -1.38017   \n",
       "3 -1.190050 -0.612106    -1.148173  0.277434  0.190693  -0.216654  -1.38017   \n",
       "4 -1.272984 -0.612106    -1.148173 -0.258121  0.190693  -0.216654  -1.38017   \n",
       "\n",
       "     male  yearsabs   Finance        HR  Marketing  \n",
       "0  0.5766 -0.414564 -0.570597  1.752549  -0.597614  \n",
       "1  0.5766 -0.414564  1.752549 -0.570597  -0.597614  \n",
       "2  0.5766 -0.296018 -0.570597  1.752549  -0.597614  \n",
       "3  0.5766 -0.355291 -0.570597 -0.570597   1.673320  \n",
       "4  0.5766 -0.355291 -0.570597 -0.570597   1.673320  "
      ]
     },
     "execution_count": 26,
     "metadata": {},
     "output_type": "execute_result"
    }
   ],
   "source": [
    "# Removing a column as per instruction\n",
    "dataset2 = dataset2.drop(\"yearsrank\", axis=1)\n",
    "dataset2.head()"
   ]
  },
  {
   "cell_type": "code",
   "execution_count": 27,
   "metadata": {},
   "outputs": [
    {
     "data": {
      "text/plain": [
       "((359, 11), (154, 11), (359,), (154,))"
      ]
     },
     "execution_count": 27,
     "metadata": {},
     "output_type": "execute_result"
    }
   ],
   "source": [
    "# Splitting the dataset\n",
    "X_train2, X_test2, y_train2, y_test2 = train_test_split(\n",
    "   dataset2.drop(labels=[\"salary\"], axis=1),\n",
    "    dataset2[\"salary\"],\n",
    "    test_size = 0.3,\n",
    "    random_state = 42\n",
    ")\n",
    "\n",
    "X_train2.shape, X_test2.shape, y_train2.shape, y_test2.shape"
   ]
  },
  {
   "cell_type": "code",
   "execution_count": 28,
   "metadata": {},
   "outputs": [
    {
     "data": {
      "text/html": [
       "<table class=\"simpletable\">\n",
       "<caption>OLS Regression Results</caption>\n",
       "<tr>\n",
       "  <th>Dep. Variable:</th>         <td>salary</td>      <th>  R-squared:         </th> <td>   0.790</td> \n",
       "</tr>\n",
       "<tr>\n",
       "  <th>Model:</th>                   <td>OLS</td>       <th>  Adj. R-squared:    </th> <td>   0.783</td> \n",
       "</tr>\n",
       "<tr>\n",
       "  <th>Method:</th>             <td>Least Squares</td>  <th>  F-statistic:       </th> <td>   118.5</td> \n",
       "</tr>\n",
       "<tr>\n",
       "  <th>Date:</th>             <td>Sat, 22 Feb 2020</td> <th>  Prob (F-statistic):</th> <td>2.76e-110</td>\n",
       "</tr>\n",
       "<tr>\n",
       "  <th>Time:</th>                 <td>16:27:07</td>     <th>  Log-Likelihood:    </th> <td> -230.80</td> \n",
       "</tr>\n",
       "<tr>\n",
       "  <th>No. Observations:</th>      <td>   359</td>      <th>  AIC:               </th> <td>   485.6</td> \n",
       "</tr>\n",
       "<tr>\n",
       "  <th>Df Residuals:</th>          <td>   347</td>      <th>  BIC:               </th> <td>   532.2</td> \n",
       "</tr>\n",
       "<tr>\n",
       "  <th>Df Model:</th>              <td>    11</td>      <th>                     </th>     <td> </td>    \n",
       "</tr>\n",
       "<tr>\n",
       "  <th>Covariance Type:</th>      <td>nonrobust</td>    <th>                     </th>     <td> </td>    \n",
       "</tr>\n",
       "</table>\n",
       "<table class=\"simpletable\">\n",
       "<tr>\n",
       "       <td></td>          <th>coef</th>     <th>std err</th>      <th>t</th>      <th>P>|t|</th>  <th>[0.025</th>    <th>0.975]</th>  \n",
       "</tr>\n",
       "<tr>\n",
       "  <th>const</th>       <td>    0.0011</td> <td>    0.025</td> <td>    0.044</td> <td> 0.965</td> <td>   -0.048</td> <td>    0.050</td>\n",
       "</tr>\n",
       "<tr>\n",
       "  <th>exprior</th>     <td>    0.2071</td> <td>    0.032</td> <td>    6.454</td> <td> 0.000</td> <td>    0.144</td> <td>    0.270</td>\n",
       "</tr>\n",
       "<tr>\n",
       "  <th>yearsworked</th> <td>    0.4863</td> <td>    0.047</td> <td>   10.341</td> <td> 0.000</td> <td>    0.394</td> <td>    0.579</td>\n",
       "</tr>\n",
       "<tr>\n",
       "  <th>market</th>      <td>    0.3810</td> <td>    0.028</td> <td>   13.765</td> <td> 0.000</td> <td>    0.327</td> <td>    0.435</td>\n",
       "</tr>\n",
       "<tr>\n",
       "  <th>degree</th>      <td>    0.0164</td> <td>    0.024</td> <td>    0.693</td> <td> 0.489</td> <td>   -0.030</td> <td>    0.063</td>\n",
       "</tr>\n",
       "<tr>\n",
       "  <th>otherqual</th>   <td>    0.0846</td> <td>    0.025</td> <td>    3.450</td> <td> 0.001</td> <td>    0.036</td> <td>    0.133</td>\n",
       "</tr>\n",
       "<tr>\n",
       "  <th>position</th>    <td>    0.2155</td> <td>    0.044</td> <td>    4.943</td> <td> 0.000</td> <td>    0.130</td> <td>    0.301</td>\n",
       "</tr>\n",
       "<tr>\n",
       "  <th>male</th>        <td>    0.0134</td> <td>    0.037</td> <td>    0.363</td> <td> 0.717</td> <td>   -0.059</td> <td>    0.086</td>\n",
       "</tr>\n",
       "<tr>\n",
       "  <th>yearsabs</th>    <td>   -0.0508</td> <td>    0.034</td> <td>   -1.475</td> <td> 0.141</td> <td>   -0.118</td> <td>    0.017</td>\n",
       "</tr>\n",
       "<tr>\n",
       "  <th>Finance</th>     <td>   -0.0554</td> <td>    0.030</td> <td>   -1.864</td> <td> 0.063</td> <td>   -0.114</td> <td>    0.003</td>\n",
       "</tr>\n",
       "<tr>\n",
       "  <th>HR</th>          <td>   -0.2145</td> <td>    0.035</td> <td>   -6.183</td> <td> 0.000</td> <td>   -0.283</td> <td>   -0.146</td>\n",
       "</tr>\n",
       "<tr>\n",
       "  <th>Marketing</th>   <td>   -0.1829</td> <td>    0.033</td> <td>   -5.522</td> <td> 0.000</td> <td>   -0.248</td> <td>   -0.118</td>\n",
       "</tr>\n",
       "</table>\n",
       "<table class=\"simpletable\">\n",
       "<tr>\n",
       "  <th>Omnibus:</th>       <td>36.177</td> <th>  Durbin-Watson:     </th> <td>   2.153</td>\n",
       "</tr>\n",
       "<tr>\n",
       "  <th>Prob(Omnibus):</th> <td> 0.000</td> <th>  Jarque-Bera (JB):  </th> <td>  61.425</td>\n",
       "</tr>\n",
       "<tr>\n",
       "  <th>Skew:</th>          <td> 0.621</td> <th>  Prob(JB):          </th> <td>4.59e-14</td>\n",
       "</tr>\n",
       "<tr>\n",
       "  <th>Kurtosis:</th>      <td> 4.602</td> <th>  Cond. No.          </th> <td>    4.00</td>\n",
       "</tr>\n",
       "</table><br/><br/>Warnings:<br/>[1] Standard Errors assume that the covariance matrix of the errors is correctly specified."
      ],
      "text/plain": [
       "<class 'statsmodels.iolib.summary.Summary'>\n",
       "\"\"\"\n",
       "                            OLS Regression Results                            \n",
       "==============================================================================\n",
       "Dep. Variable:                 salary   R-squared:                       0.790\n",
       "Model:                            OLS   Adj. R-squared:                  0.783\n",
       "Method:                 Least Squares   F-statistic:                     118.5\n",
       "Date:                Sat, 22 Feb 2020   Prob (F-statistic):          2.76e-110\n",
       "Time:                        16:27:07   Log-Likelihood:                -230.80\n",
       "No. Observations:                 359   AIC:                             485.6\n",
       "Df Residuals:                     347   BIC:                             532.2\n",
       "Df Model:                          11                                         \n",
       "Covariance Type:            nonrobust                                         \n",
       "===============================================================================\n",
       "                  coef    std err          t      P>|t|      [0.025      0.975]\n",
       "-------------------------------------------------------------------------------\n",
       "const           0.0011      0.025      0.044      0.965      -0.048       0.050\n",
       "exprior         0.2071      0.032      6.454      0.000       0.144       0.270\n",
       "yearsworked     0.4863      0.047     10.341      0.000       0.394       0.579\n",
       "market          0.3810      0.028     13.765      0.000       0.327       0.435\n",
       "degree          0.0164      0.024      0.693      0.489      -0.030       0.063\n",
       "otherqual       0.0846      0.025      3.450      0.001       0.036       0.133\n",
       "position        0.2155      0.044      4.943      0.000       0.130       0.301\n",
       "male            0.0134      0.037      0.363      0.717      -0.059       0.086\n",
       "yearsabs       -0.0508      0.034     -1.475      0.141      -0.118       0.017\n",
       "Finance        -0.0554      0.030     -1.864      0.063      -0.114       0.003\n",
       "HR             -0.2145      0.035     -6.183      0.000      -0.283      -0.146\n",
       "Marketing      -0.1829      0.033     -5.522      0.000      -0.248      -0.118\n",
       "==============================================================================\n",
       "Omnibus:                       36.177   Durbin-Watson:                   2.153\n",
       "Prob(Omnibus):                  0.000   Jarque-Bera (JB):               61.425\n",
       "Skew:                           0.621   Prob(JB):                     4.59e-14\n",
       "Kurtosis:                       4.602   Cond. No.                         4.00\n",
       "==============================================================================\n",
       "\n",
       "Warnings:\n",
       "[1] Standard Errors assume that the covariance matrix of the errors is correctly specified.\n",
       "\"\"\""
      ]
     },
     "execution_count": 28,
     "metadata": {},
     "output_type": "execute_result"
    }
   ],
   "source": [
    "# Building Model 2\n",
    "X2 = sm.add_constant(X_train2)\n",
    "model2 = sm.OLS(y_train2, X2).fit()\n",
    "model2.summary()"
   ]
  },
  {
   "cell_type": "markdown",
   "metadata": {},
   "source": [
    "### Model Evaluation "
   ]
  },
  {
   "cell_type": "markdown",
   "metadata": {},
   "source": [
    "1. Use ErrorCalculator, HistogramPlotter and ScatterPlotter to get accuracy metrics and diagnostic plots for model 1 and model 2 (as defined in Q3). To keep the notebook neat, your classes should be imported from separate python files. How does the model accuracy and diagnostics for the two models compare? Which is the better regression model?"
   ]
  },
  {
   "cell_type": "code",
   "execution_count": 29,
   "metadata": {},
   "outputs": [],
   "source": [
    "model1_errors = ErrorCalculator(y_test1, model1.predict(sm.add_constant(X_test1)))"
   ]
  },
  {
   "cell_type": "code",
   "execution_count": 30,
   "metadata": {},
   "outputs": [],
   "source": [
    "model2_errors = ErrorCalculator(y_test2, model2.predict(sm.add_constant(X_test2)))"
   ]
  },
  {
   "cell_type": "code",
   "execution_count": 31,
   "metadata": {},
   "outputs": [
    {
     "name": "stdout",
     "output_type": "stream",
     "text": [
      "Model1 MSE:\t\t0.22004416436316312\n",
      "Model2 MSE:\t\t0.2551132869425865\n"
     ]
    }
   ],
   "source": [
    "# MSE \n",
    "print(\"Model1 MSE:\\t\\t{}\".format(model1_errors.get_mse()))\n",
    "print(\"Model2 MSE:\\t\\t{}\".format(model2_errors.get_mse()))"
   ]
  },
  {
   "cell_type": "code",
   "execution_count": 32,
   "metadata": {},
   "outputs": [
    {
     "name": "stdout",
     "output_type": "stream",
     "text": [
      "Model1 RMSE:\t\t0.46908865298913716\n",
      "Model2 RMSE:\t\t0.5050874052504046\n"
     ]
    }
   ],
   "source": [
    "# RMSE\n",
    "print(\"Model1 RMSE:\\t\\t{}\".format(model1_errors.get_rmse()))\n",
    "print(\"Model2 RMSE:\\t\\t{}\".format(model2_errors.get_rmse()))"
   ]
  },
  {
   "cell_type": "code",
   "execution_count": 33,
   "metadata": {},
   "outputs": [
    {
     "data": {
      "text/html": [
       "<div>\n",
       "<style scoped>\n",
       "    .dataframe tbody tr th:only-of-type {\n",
       "        vertical-align: middle;\n",
       "    }\n",
       "\n",
       "    .dataframe tbody tr th {\n",
       "        vertical-align: top;\n",
       "    }\n",
       "\n",
       "    .dataframe thead th {\n",
       "        text-align: right;\n",
       "    }\n",
       "</style>\n",
       "<table border=\"1\" class=\"dataframe\">\n",
       "  <thead>\n",
       "    <tr style=\"text-align: right;\">\n",
       "      <th></th>\n",
       "      <th>Standardised Residuals Average Mean</th>\n",
       "      <th>Standardised Residuals Average Min</th>\n",
       "      <th>Standardised Residuals Average Max</th>\n",
       "      <th>MSE</th>\n",
       "      <th>RMSE</th>\n",
       "    </tr>\n",
       "  </thead>\n",
       "  <tbody>\n",
       "    <tr>\n",
       "      <th>0</th>\n",
       "      <td>0.007669</td>\n",
       "      <td>-2.190959</td>\n",
       "      <td>3.592739</td>\n",
       "      <td>0.220044</td>\n",
       "      <td>0.469089</td>\n",
       "    </tr>\n",
       "  </tbody>\n",
       "</table>\n",
       "</div>"
      ],
      "text/plain": [
       "   Standardised Residuals Average Mean  Standardised Residuals Average Min  \\\n",
       "0                             0.007669                           -2.190959   \n",
       "\n",
       "   Standardised Residuals Average Max       MSE      RMSE  \n",
       "0                            3.592739  0.220044  0.469089  "
      ]
     },
     "execution_count": 33,
     "metadata": {},
     "output_type": "execute_result"
    }
   ],
   "source": [
    "# Model1 error summary\n",
    "model1_errors.error_summary()"
   ]
  },
  {
   "cell_type": "code",
   "execution_count": 34,
   "metadata": {},
   "outputs": [
    {
     "data": {
      "text/html": [
       "<div>\n",
       "<style scoped>\n",
       "    .dataframe tbody tr th:only-of-type {\n",
       "        vertical-align: middle;\n",
       "    }\n",
       "\n",
       "    .dataframe tbody tr th {\n",
       "        vertical-align: top;\n",
       "    }\n",
       "\n",
       "    .dataframe thead th {\n",
       "        text-align: right;\n",
       "    }\n",
       "</style>\n",
       "<table border=\"1\" class=\"dataframe\">\n",
       "  <thead>\n",
       "    <tr style=\"text-align: right;\">\n",
       "      <th></th>\n",
       "      <th>Standardised Residuals Average Mean</th>\n",
       "      <th>Standardised Residuals Average Min</th>\n",
       "      <th>Standardised Residuals Average Max</th>\n",
       "      <th>MSE</th>\n",
       "      <th>RMSE</th>\n",
       "    </tr>\n",
       "  </thead>\n",
       "  <tbody>\n",
       "    <tr>\n",
       "      <th>0</th>\n",
       "      <td>-0.007196</td>\n",
       "      <td>-2.053345</td>\n",
       "      <td>3.641064</td>\n",
       "      <td>0.255113</td>\n",
       "      <td>0.505087</td>\n",
       "    </tr>\n",
       "  </tbody>\n",
       "</table>\n",
       "</div>"
      ],
      "text/plain": [
       "   Standardised Residuals Average Mean  Standardised Residuals Average Min  \\\n",
       "0                            -0.007196                           -2.053345   \n",
       "\n",
       "   Standardised Residuals Average Max       MSE      RMSE  \n",
       "0                            3.641064  0.255113  0.505087  "
      ]
     },
     "execution_count": 34,
     "metadata": {},
     "output_type": "execute_result"
    }
   ],
   "source": [
    "# Model2 error summary\n",
    "model2_errors.error_summary()"
   ]
  },
  {
   "cell_type": "markdown",
   "metadata": {},
   "source": [
    "### Residuals Visualisation"
   ]
  },
  {
   "cell_type": "markdown",
   "metadata": {},
   "source": [
    "Model 1"
   ]
  },
  {
   "cell_type": "code",
   "execution_count": 35,
   "metadata": {},
   "outputs": [],
   "source": [
    "model1_plot = HistogramPlotter(y_test1, model1.predict(sm.add_constant(X_test1)))\n",
    "model1_scatter = ScatterPlotter(y_test1, model1.predict(sm.add_constant(X_test1)))"
   ]
  },
  {
   "cell_type": "code",
   "execution_count": 36,
   "metadata": {},
   "outputs": [
    {
     "data": {
      "image/png": "[encoded data removed]",
      "text/plain": [
       "<Figure size 432x288 with 1 Axes>"
      ]
     },
     "metadata": {
      "needs_background": "light"
     },
     "output_type": "display_data"
    }
   ],
   "source": [
    "# Mode1 Plot\n",
    "model1_plot.plot()"
   ]
  },
  {
   "cell_type": "code",
   "execution_count": 37,
   "metadata": {},
   "outputs": [
    {
     "data": {
      "image/png": "[encoded data removed]",
      "text/plain": [
       "<Figure size 432x288 with 1 Axes>"
      ]
     },
     "metadata": {
      "needs_background": "light"
     },
     "output_type": "display_data"
    }
   ],
   "source": [
    "model1_scatter.plot()"
   ]
  },
  {
   "cell_type": "markdown",
   "metadata": {},
   "source": [
    "Model 2"
   ]
  },
  {
   "cell_type": "code",
   "execution_count": 38,
   "metadata": {},
   "outputs": [],
   "source": [
    "model2_plot = HistogramPlotter(y_test2, model2.predict(sm.add_constant(X_test2)))\n",
    "model2_scatter = ScatterPlotter(y_test2, model2.predict(sm.add_constant(X_test2)))"
   ]
  },
  {
   "cell_type": "code",
   "execution_count": 39,
   "metadata": {},
   "outputs": [
    {
     "data": {
      "image/png": "[encoded data removed]",
      "text/plain": [
       "<Figure size 432x288 with 1 Axes>"
      ]
     },
     "metadata": {
      "needs_background": "light"
     },
     "output_type": "display_data"
    }
   ],
   "source": [
    "model2_plot.plot()"
   ]
  },
  {
   "cell_type": "code",
   "execution_count": 40,
   "metadata": {},
   "outputs": [
    {
     "data": {
      "image/png": "[encoded data removed]",
      "text/plain": [
       "<Figure size 432x288 with 1 Axes>"
      ]
     },
     "metadata": {
      "needs_background": "light"
     },
     "output_type": "display_data"
    }
   ],
   "source": [
    "model2_scatter.plot()"
   ]
  }
 ],
 "metadata": {
  "kernelspec": {
   "display_name": "Python 3",
   "language": "python",
   "name": "python3"
  },
  "language_info": {
   "codemirror_mode": {
    "name": "ipython",
    "version": 3
   },
   "file_extension": ".py",
   "mimetype": "text/x-python",
   "name": "python",
   "nbconvert_exporter": "python",
   "pygments_lexer": "ipython3",
   "version": "3.7.3"
  }
 },
 "nbformat": 4,
 "nbformat_minor": 4
}
